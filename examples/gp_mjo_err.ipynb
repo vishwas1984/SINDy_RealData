{
 "cells": [
  {
   "cell_type": "code",
   "execution_count": null,
   "metadata": {},
   "outputs": [],
   "source": [
    "import sys\n",
    "sys.path.append('../')\n",
    "\n",
    "import numpy as np\n",
    "import random\n",
    "import torch\n",
    "import gpytorch\n",
    "from gp_mjo.gp_mjo_model import gp_mjo\n",
    "from gp_mjo.utils.dat_ops import dics_divide\n",
    "\n",
    "from matplotlib import pyplot as plt\n",
    "import matplotlib.colors as mcolors\n",
    "\n",
    "%matplotlib inline\n",
    "%load_ext autoreload\n",
    "%autoreload 2"
   ]
  },
  {
   "cell_type": "code",
   "execution_count": 2,
   "metadata": {},
   "outputs": [
    {
     "name": "stdout",
     "output_type": "stream",
     "text": [
      "['year', 'month', 'day', 'RMM1', 'RMM2', 'phase', 'amplitude']\n",
      "[array([1979, 1979, 1979, ..., 2022, 2022, 2022]), array([ 1,  1,  1, ..., 11, 11, 11]), array([ 1,  2,  3, ..., 14, 15, 16]), array([ 0.142507  , -0.2042    , -0.15861   , ...,  0.63895518,\n",
      "        0.71995491,  0.67032343]), array([ 1.05047   ,  1.37361   ,  1.53943   , ..., -0.39565107,\n",
      "       -0.2206952 , -0.1839911 ]), array([6., 7., 7., ..., 4., 4., 4.]), array([1.0600899 , 1.3887    , 1.54758   , ..., 0.7515341 , 0.75302154,\n",
      "       0.69511598])]\n",
      "(16026,)\n",
      "(16026,)\n"
     ]
    }
   ],
   "source": [
    "npzfile = np.load('../data/mjo_new_data.npz', allow_pickle=True)\n",
    "\n",
    "data_names = npzfile.files\n",
    "n_files = len(npzfile.files)\n",
    "\n",
    "new_datas = [0]*n_files\n",
    "for i in range(n_files):\n",
    "    new_datas[i] = npzfile[data_names[i]]\n",
    "\n",
    "print(data_names)\n",
    "print(new_datas)\n",
    "print(new_datas[0].shape)\n",
    "print(new_datas[3].shape)"
   ]
  },
  {
   "cell_type": "code",
   "execution_count": 3,
   "metadata": {},
   "outputs": [],
   "source": [
    "## Set initial values\n",
    "widths = [40, 60, 80]\n",
    "n_iter = 200\n",
    "sigma_eps = 0.01\n",
    "fixed_noise = True\n",
    "\n",
    "N = len(new_datas[0]) # the total number of days in new dataset\n",
    "n = 10000 # the number of days for training\n",
    "c = 365 # the number of dropped buffer set\n",
    "m = N-n-c # the number of days for testing\n",
    "\n",
    "\n",
    "n_cv = 1 # the number of operations for cross-validation\n",
    "n1s = [0]*n_cv\n",
    "for i in range(n_cv):\n",
    "    n1s[i] = random.randint(0,n) # (include 0 and n) the number of the first part of the training set\n",
    "\n",
    "\n",
    "palette_colors = list(mcolors.TABLEAU_COLORS.keys()) # list of Tableau Palette colors\n",
    "plot_colors = palette_colors[:len(widths)]\n",
    "\n",
    "## Set the kernel of GP\n",
    "nu = 0.5 # 1.5,2.5.... smoothness parameter of Matern kernel\n",
    "d = 1 # d = width or d = 1\n",
    "kernel = gpytorch.kernels.MaternKernel(nu=nu, ard_num_dims=d) "
   ]
  },
  {
   "cell_type": "code",
   "execution_count": 4,
   "metadata": {},
   "outputs": [
    {
     "name": "stdout",
     "output_type": "stream",
     "text": [
      "5661\n"
     ]
    }
   ],
   "source": [
    "print(m)"
   ]
  },
  {
   "cell_type": "code",
   "execution_count": 5,
   "metadata": {},
   "outputs": [],
   "source": [
    "max_lead_time = m + 1 - max(widths)\n",
    "lead_times = np.arange(1, 101)\n",
    "n_pred = 1000 # 14*365\n",
    "# width + lead_time + n_pred-1 <= m"
   ]
  },
  {
   "cell_type": "code",
   "execution_count": 6,
   "metadata": {},
   "outputs": [
    {
     "name": "stderr",
     "output_type": "stream",
     "text": [
      "/Users/hchen/opt/anaconda3/envs/ml/lib/python3.10/site-packages/gpytorch/likelihoods/gaussian_likelihood.py:300: GPInputWarning: You have passed data through a FixedNoiseGaussianLikelihood that did not match the size of the fixed noise, *and* you did not specify noise. This is treated as a no-op.\n",
      "  warnings.warn(\n"
     ]
    }
   ],
   "source": [
    "# Independent\n",
    "dics_total = {}\n",
    "cor_total = {}\n",
    "rmse_total = {}\n",
    "for n1 in n1s:\n",
    "    dics, dics_ids = dics_divide(new_datas, data_names, n1, m, n, c)\n",
    "    dics_total[n1] = dics\n",
    "\n",
    "    cor_width = {}\n",
    "    rmse_width = {}\n",
    "    for width in widths:\n",
    "        cor_lead = np.zeros(len(lead_times))\n",
    "        rmse_lead = np.zeros(len(lead_times))\n",
    "        for i, lead_time in enumerate(lead_times):\n",
    "            mjo_model = gp_mjo(dics, dics_ids, kernel, width, n_iter, sigma_eps,fixed_noise)\n",
    "            for data_name in ['RMM1','RMM2']:\n",
    "\n",
    "                mjo_model.train_mjo(data_name)\n",
    "                mjo_model.pred_mjo(data_name, lead_time, n_pred)\n",
    "            \n",
    "            mjo_model.cor()\n",
    "            mjo_model.rmse()\n",
    "\n",
    "            cor_lead[i] = mjo_model.cor_leadtime\n",
    "            rmse_lead[i] = mjo_model.rmse_leadtime\n",
    "        \n",
    "        cor_width[width] = cor_lead\n",
    "        rmse_width[width] = rmse_lead\n",
    "    \n",
    "    cor_total[n1] = cor_width\n",
    "    rmse_total[n1] = rmse_width"
   ]
  },
  {
   "cell_type": "code",
   "execution_count": null,
   "metadata": {},
   "outputs": [],
   "source": [
    "# Plot\n",
    "for n1 in n1s:\n",
    "    for width in widths:\n",
    "        _cor = cor_total[n1][width]\n",
    "        _rmse = rmse_total[n1][width]\n",
    "        \n",
    "        fig, ax = plt.subplots(1, 1, figsize=(14, 8))\n",
    "        ax.plot(lead_times, _cor, color='red', linewidth=2.5, marker='+')\n",
    "        ax.plot(lead_times, _rmse, color='red', linewidth=2.5, marker='D')\n",
    "\n",
    "        ax.set_xlabel('Forecast lead time (days)', fontsize=14)\n",
    "        ax.legend(['COR', 'RMSE'], fontsize=14)\n",
    "        ax.set_title(f'COR & RMSE for width = {width} and n1 = {n1}', fontsize=14)\n"
   ]
  },
  {
   "cell_type": "code",
   "execution_count": 20,
   "metadata": {},
   "outputs": [
    {
     "name": "stdout",
     "output_type": "stream",
     "text": [
      "1525\n",
      "[ 0.142507   -0.2042     -0.15861    ... -0.76100999 -0.35888001\n",
      " -0.1133    ]\n",
      "[1979 1979 1979 ... 1983 1983 1983]\n",
      "[1999 1999 1999 ... 2022 2022 2022]\n"
     ]
    }
   ],
   "source": [
    "n1 = n1s[0]\n",
    "print(n1)\n",
    "\n",
    "dics, dics_ids = dics_divide(new_datas, data_names, n1, m, n, c, fixed_start=False, start_index=None, width=None)\n",
    "print(dics['RMM1']['train1'])\n",
    "print(dics['year']['train1'])\n",
    "print(dics['year']['train2'])"
   ]
  },
  {
   "cell_type": "code",
   "execution_count": null,
   "metadata": {},
   "outputs": [],
   "source": []
  }
 ],
 "metadata": {
  "kernelspec": {
   "display_name": "ml",
   "language": "python",
   "name": "python3"
  },
  "language_info": {
   "codemirror_mode": {
    "name": "ipython",
    "version": 3
   },
   "file_extension": ".py",
   "mimetype": "text/x-python",
   "name": "python",
   "nbconvert_exporter": "python",
   "pygments_lexer": "ipython3",
   "version": "3.10.9"
  },
  "orig_nbformat": 4
 },
 "nbformat": 4,
 "nbformat_minor": 2
}
