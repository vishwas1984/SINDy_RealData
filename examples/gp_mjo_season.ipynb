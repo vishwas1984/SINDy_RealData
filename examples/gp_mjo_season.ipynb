{
 "cells": [
  {
   "cell_type": "code",
   "execution_count": 1,
   "metadata": {},
   "outputs": [],
   "source": [
    "import sys\n",
    "sys.path.append('../')\n",
    "\n",
    "import numpy as np\n",
    "import random\n",
    "import torch\n",
    "import gpytorch\n",
    "from gp_mjo.gp_mjo_model import gp_mjo\n",
    "from gp_mjo.utils.dat_ops import dics_divide\n",
    "\n",
    "from matplotlib import pyplot as plt\n",
    "import matplotlib.colors as mcolors\n",
    "\n",
    "%matplotlib inline\n",
    "%load_ext autoreload\n",
    "%autoreload 2"
   ]
  },
  {
   "cell_type": "code",
   "execution_count": 2,
   "metadata": {},
   "outputs": [
    {
     "name": "stdout",
     "output_type": "stream",
     "text": [
      "['year', 'month', 'day', 'RMM1', 'RMM2', 'phase', 'amplitude']\n",
      "[array([1979, 1979, 1979, ..., 2022, 2022, 2022]), array([ 1,  1,  1, ..., 11, 11, 11]), array([ 1,  2,  3, ..., 14, 15, 16]), array([ 0.142507  , -0.2042    , -0.15861   , ...,  0.63895518,\n",
      "        0.71995491,  0.67032343]), array([ 1.05047   ,  1.37361   ,  1.53943   , ..., -0.39565107,\n",
      "       -0.2206952 , -0.1839911 ]), array([6., 7., 7., ..., 4., 4., 4.]), array([1.0600899 , 1.3887    , 1.54758   , ..., 0.7515341 , 0.75302154,\n",
      "       0.69511598])]\n",
      "(16026,)\n",
      "(16026,)\n"
     ]
    }
   ],
   "source": [
    "npzfile = np.load('../data/mjo_new_data.npz', allow_pickle=True)\n",
    "\n",
    "data_names = npzfile.files\n",
    "n_files = len(npzfile.files)\n",
    "\n",
    "new_datas = [0]*n_files\n",
    "for i in range(n_files):\n",
    "    new_datas[i] = npzfile[data_names[i]]\n",
    "\n",
    "print(data_names)\n",
    "print(new_datas)\n",
    "print(new_datas[0].shape)\n",
    "print(new_datas[3].shape)"
   ]
  },
  {
   "cell_type": "code",
   "execution_count": 55,
   "metadata": {},
   "outputs": [
    {
     "name": "stdout",
     "output_type": "stream",
     "text": [
      "(16026,)\n",
      "(3940,)\n",
      "(4048,)\n",
      "(4048,)\n",
      "(3990,)\n"
     ]
    }
   ],
   "source": [
    "## Divide new_datas into four seasons\n",
    "npz_month = npzfile['month']\n",
    "winter_ids = np.where( (npz_month==12) | (npz_month==1) | (npz_month==2) )[0]\n",
    "spring_ids = np.where( (npz_month==3) | (npz_month==4) | (npz_month==5) )[0]\n",
    "summer_ids = np.where( (npz_month==6) | (npz_month==7) | (npz_month==8) )[0]\n",
    "fall_ids = np.where( (npz_month==9) | (npz_month==10) | (npz_month==11) )[0]\n",
    "\n",
    "print(npz_month.shape)\n",
    "print(winter_ids.shape)\n",
    "print(spring_ids.shape)\n",
    "print(summer_ids.shape)\n",
    "print(fall_ids.shape)"
   ]
  },
  {
   "cell_type": "code",
   "execution_count": null,
   "metadata": {},
   "outputs": [],
   "source": []
  }
 ],
 "metadata": {
  "kernelspec": {
   "display_name": "ml",
   "language": "python",
   "name": "python3"
  },
  "language_info": {
   "codemirror_mode": {
    "name": "ipython",
    "version": 3
   },
   "file_extension": ".py",
   "mimetype": "text/x-python",
   "name": "python",
   "nbconvert_exporter": "python",
   "pygments_lexer": "ipython3",
   "version": "3.10.9"
  },
  "orig_nbformat": 4
 },
 "nbformat": 4,
 "nbformat_minor": 2
}
