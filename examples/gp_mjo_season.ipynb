{
 "cells": [
  {
   "cell_type": "code",
   "execution_count": 1,
   "metadata": {},
   "outputs": [],
   "source": [
    "import sys\n",
    "sys.path.append('../')\n",
    "\n",
    "import numpy as np\n",
    "import random\n",
    "import torch\n",
    "import gpytorch\n",
    "from gp_mjo.gp_mjo_model import gp_mjo\n",
    "from gp_mjo.utils.dat_ops import dics_divide\n",
    "\n",
    "from matplotlib import pyplot as plt\n",
    "import matplotlib.colors as mcolors\n",
    "\n",
    "%matplotlib inline\n",
    "%load_ext autoreload\n",
    "%autoreload 2"
   ]
  },
  {
   "cell_type": "code",
   "execution_count": 78,
   "metadata": {},
   "outputs": [
    {
     "name": "stdout",
     "output_type": "stream",
     "text": [
      "(16026,)\n",
      "(3940,)\n",
      "(4048,)\n",
      "(4048,)\n",
      "(3990,)\n"
     ]
    }
   ],
   "source": [
    "npzfile = np.load('../data/mjo_new_data.npz', allow_pickle=True)\n",
    "\n",
    "## Divide new_datas into four seasons\n",
    "npz_month = npzfile['month']\n",
    "winter_ids = np.where( (npz_month==12) | (npz_month==1) | (npz_month==2) )[0]\n",
    "spring_ids = np.where( (npz_month==3) | (npz_month==4) | (npz_month==5) )[0]\n",
    "summer_ids = np.where( (npz_month==6) | (npz_month==7) | (npz_month==8) )[0]\n",
    "fall_ids = np.where( (npz_month==9) | (npz_month==10) | (npz_month==11) )[0]\n",
    "\n",
    "print(npz_month.shape)\n",
    "print(winter_ids.shape)\n",
    "print(spring_ids.shape)\n",
    "print(summer_ids.shape)\n",
    "print(fall_ids.shape)"
   ]
  },
  {
   "cell_type": "code",
   "execution_count": 79,
   "metadata": {},
   "outputs": [
    {
     "data": {
      "text/plain": [
       "[array([1979, 1979, 1979, ..., 2022, 2022, 2022]),\n",
       " array([1, 1, 1, ..., 2, 2, 2]),\n",
       " array([ 1,  2,  3, ..., 26, 27, 28]),\n",
       " array([ 0.142507  , -0.2042    , -0.15861   , ...,  0.28864297,\n",
       "         0.42139462,  0.28795415]),\n",
       " array([ 1.05047   ,  1.37361   ,  1.53943   , ..., -0.29837567,\n",
       "        -0.13990659, -0.09597149]),\n",
       " array([6., 7., 7., ..., 3., 4., 4.]),\n",
       " array([1.0600899 , 1.3887    , 1.54758   , ..., 0.41514191, 0.4440127 ,\n",
       "        0.30352613])]"
      ]
     },
     "execution_count": 79,
     "metadata": {},
     "output_type": "execute_result"
    }
   ],
   "source": [
    "seasons = ['winter','spring','summer','fall']\n",
    "seasons_ids = [winter_ids, spring_ids, summer_ids, fall_ids]\n",
    "data_names = npzfile.files\n",
    "n_files = len(npzfile.files)\n",
    "\n",
    "season_datas = {}\n",
    "for j in range(4):\n",
    "    season = seasons[j]\n",
    "    season_id = seasons_ids[j]\n",
    "\n",
    "    new_datas = [0]*n_files\n",
    "    for i in range(n_files):\n",
    "        new_datas[i] = npzfile[data_names[i]][season_id]\n",
    "\n",
    "    season_datas[season] = new_datas\n",
    "\n",
    "#example\n",
    "season_datas['winter']"
   ]
  },
  {
   "cell_type": "code",
   "execution_count": 93,
   "metadata": {},
   "outputs": [],
   "source": [
    "## Set initial values\n",
    "widths = [40, 60, 80]\n",
    "n_iter = 200\n",
    "sigma_eps = 0.01\n",
    "fixed_noise = True\n",
    "\n",
    "Ns = [len(winter_ids),len(spring_ids),len(summer_ids),len(fall_ids)]# the total number of days in new dataset\n",
    "n = 2500 # the number of days for training\n",
    "c = 365 # the number of dropped buffer set\n",
    "ms = [N-n-c for N in Ns] # the number of days for testing\n",
    "\n",
    "\n",
    "n_cv = 1 # the number of operations for cross-validation\n",
    "n1s  = [random.randint(0,n) for i in range(n_cv)]\n",
    "\n",
    "palette_colors = list(mcolors.TABLEAU_COLORS.keys()) # list of Tableau Palette colors\n",
    "plot_colors = palette_colors[:len(widths)]\n",
    "\n",
    "## Set the kernel of GP\n",
    "nu = 0.5 # 1.5,2.5.... smoothness parameter of Matern kernel\n",
    "d = 1 # d = width or d = 1\n",
    "kernel = gpytorch.kernels.MaternKernel(nu=nu, ard_num_dims=d) "
   ]
  },
  {
   "cell_type": "code",
   "execution_count": 96,
   "metadata": {},
   "outputs": [
    {
     "name": "stdout",
     "output_type": "stream",
     "text": [
      "[1075, 1183, 1183, 1125]\n",
      "[996, 1104, 1104, 1046]\n"
     ]
    }
   ],
   "source": [
    "print(ms)\n",
    "max_lead_time = [m + 1 - max(widths) for m in ms]\n",
    "print(max_lead_time)"
   ]
  },
  {
   "cell_type": "code",
   "execution_count": 97,
   "metadata": {},
   "outputs": [],
   "source": [
    "lead_times = np.arange(1, 101)\n",
    "n_pred = 2*365 # 14*365\n",
    "# width + lead_time + n_pred-1 <= m"
   ]
  },
  {
   "cell_type": "code",
   "execution_count": null,
   "metadata": {},
   "outputs": [],
   "source": [
    "# Independent\n",
    "dics_total = {}\n",
    "cor_total = {}\n",
    "rmse_total = {}\n",
    "phase_err_total = {}\n",
    "amplitude_err_total = {}\n",
    "for m, season in zip(ms,seasons):\n",
    "\n",
    "    cor_n1 = {}\n",
    "    rmse_n1 = {}\n",
    "    phase_err_n1 = {}\n",
    "    amplitude_err_n1 = {}\n",
    "    for n1 in n1s:\n",
    "        dics, dics_ids = dics_divide(season_datas[season], data_names, n1, m, n, c)\n",
    "        dics_total[n1] = dics\n",
    "\n",
    "        cor_width = {}\n",
    "        rmse_width = {}\n",
    "        phase_err_width = {}\n",
    "        amplitude_err_width = {}\n",
    "        for width in widths:\n",
    "            cor_lead = np.zeros(len(lead_times))\n",
    "            rmse_lead = np.zeros(len(lead_times))\n",
    "            phase_err_lead = np.zeros(len(lead_times))\n",
    "            amplitude_err_lead = np.zeros(len(lead_times))\n",
    "            for i, lead_time in enumerate(lead_times):\n",
    "                mjo_model = gp_mjo(dics, dics_ids, kernel, width, n_iter, sigma_eps,fixed_noise)\n",
    "                for data_name in ['RMM1','RMM2']:\n",
    "\n",
    "                    mjo_model.train_mjo(data_name)\n",
    "                    mjo_model.pred_mjo(data_name, lead_time, n_pred)\n",
    "                \n",
    "                cor_lead[i] = mjo_model.cor()\n",
    "                rmse_lead[i] = mjo_model.rmse()\n",
    "                phase_err_lead[i] = mjo_model.phase_err()\n",
    "                mjo_model.rmm_to_amplitude()\n",
    "                amplitude_err_lead[i] = mjo_model.amplitude_err()\n",
    "            \n",
    "            cor_width[width] = cor_lead\n",
    "            rmse_width[width] = rmse_lead\n",
    "            phase_err_width[width] = phase_err_lead\n",
    "            amplitude_err_width[width] = amplitude_err_lead\n",
    "        \n",
    "        cor_n1[n1] = cor_width\n",
    "        rmse_n1[n1] = rmse_width\n",
    "        phase_err_n1[n1] = phase_err_width\n",
    "        amplitude_err_n1[n1] = amplitude_err_width\n",
    "    \n",
    "    cor_total[season] = cor_n1\n",
    "    rmse_total[season] = rmse_n1\n",
    "    phase_err_total[season] = phase_err_n1\n",
    "    amplitude_err_total[season] = amplitude_err_n1"
   ]
  },
  {
   "cell_type": "code",
   "execution_count": null,
   "metadata": {},
   "outputs": [],
   "source": [
    "# Plot\n",
    "for season in seasons:\n",
    "    for n1 in n1s:\n",
    "        for width in widths:\n",
    "            _cor = cor_total[season][n1][width]\n",
    "            _rmse = rmse_total[season][n1][width]\n",
    "            _phase_err = phase_err_total[season][n1][width]\n",
    "            _amplitude_err = amplitude_err_total[season][n1][width]\n",
    "            \n",
    "            fig, ax = plt.subplots(1, 1, figsize=(14, 8))\n",
    "            ax.plot(lead_times, _cor, color='red', linewidth=2.5, marker='+')\n",
    "            ax.plot(lead_times, _rmse, color='red', linewidth=2.5, marker='D')\n",
    "\n",
    "            ax.set_xlabel('Forecast lead time (days)', fontsize=14)\n",
    "            ax.legend(['COR', 'RMSE'], fontsize=14)\n",
    "            ax.set_title(f'COR & RMSE for {season} season, width = {width}, n1 = {n1}', fontsize=14)\n",
    "\n",
    "            fig, ax = plt.subplots(1, 1, figsize=(14, 8))\n",
    "            ax.plot(lead_times, _phase_err, color='blue', linewidth=2.5, marker='+')\n",
    "            ax.plot(lead_times, _amplitude_err, color='blue', linewidth=2.5, marker='D')\n",
    "\n",
    "            ax.set_xlabel('Forecast lead time (days)', fontsize=14)\n",
    "            ax.legend(['phase error', 'amplitude error'], fontsize=14)\n",
    "            ax.set_title(f'Phase & Ampltidue error for  {season} season, width = {width}, n1 = {n1}', fontsize=14)\n"
   ]
  }
 ],
 "metadata": {
  "kernelspec": {
   "display_name": "ml",
   "language": "python",
   "name": "python3"
  },
  "language_info": {
   "codemirror_mode": {
    "name": "ipython",
    "version": 3
   },
   "file_extension": ".py",
   "mimetype": "text/x-python",
   "name": "python",
   "nbconvert_exporter": "python",
   "pygments_lexer": "ipython3",
   "version": "3.10.9"
  },
  "orig_nbformat": 4
 },
 "nbformat": 4,
 "nbformat_minor": 2
}
