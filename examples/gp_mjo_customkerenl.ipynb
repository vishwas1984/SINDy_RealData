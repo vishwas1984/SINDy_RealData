{
 "cells": [
  {
   "cell_type": "code",
   "execution_count": 1,
   "metadata": {},
   "outputs": [],
   "source": [
    "import sys\n",
    "sys.path.append('../')\n",
    "\n",
    "import numpy as np\n",
    "import random\n",
    "import torch\n",
    "import gpytorch\n",
    "from gp_mjo.gp_mjo_model import gp_mjo\n",
    "from gp_mjo.utils.dat_ops import dics_divide\n",
    "\n",
    "from matplotlib import pyplot as plt\n",
    "import matplotlib.colors as mcolors\n",
    "\n",
    "%matplotlib inline\n",
    "%load_ext autoreload\n",
    "%autoreload 2"
   ]
  },
  {
   "cell_type": "code",
   "execution_count": 2,
   "metadata": {},
   "outputs": [],
   "source": [
    "import os\n",
    "import math\n",
    "smoke_test = ('CI' in os.environ)\n",
    "training_iter = 2 if smoke_test else 50\n",
    "\n",
    "# Wrap training, prediction and plotting from the ExactGP-Tutorial into a function,\n",
    "# so that we do not have to repeat the code later on\n",
    "def train(train_x, train_y, model, likelihood, training_iter=training_iter):\n",
    "    # Use the adam optimizer\n",
    "    optimizer = torch.optim.Adam(model.parameters(), lr=0.1)  # Includes GaussianLikelihood parameters\n",
    "\n",
    "    # \"Loss\" for GPs - the marginal log likelihood\n",
    "    mll = gpytorch.mlls.ExactMarginalLogLikelihood(likelihood, model)\n",
    "\n",
    "    for i in range(training_iter):\n",
    "        # Zero gradients from previous iteration\n",
    "        optimizer.zero_grad()\n",
    "        # Output from model\n",
    "        output = model(train_x)\n",
    "        # Calc loss and backprop gradients\n",
    "        loss = -mll(output, train_y)\n",
    "        loss.backward()\n",
    "        optimizer.step()\n",
    "\n",
    "\n",
    "def predict(model, likelihood, test_x = torch.linspace(0, 1, 50)):\n",
    "    model.eval()\n",
    "    likelihood.eval()\n",
    "    # Make predictions by feeding model through likelihood\n",
    "    with torch.no_grad(), gpytorch.settings.fast_pred_var():\n",
    "        # Test points are regularly spaced along [0,1]\n",
    "        return likelihood(model(test_x))\n",
    "\n",
    "def plot(train_x, train_y, observed_pred, test_x=torch.linspace(0, 1, 50)):\n",
    "    with torch.no_grad():\n",
    "        # Initialize plot\n",
    "        f, ax = plt.subplots(1, 1, figsize=(4, 3))\n",
    "\n",
    "        # Get upper and lower confidence bounds\n",
    "        lower, upper = observed_pred.confidence_region()\n",
    "        # Plot training data as black stars\n",
    "        ax.plot(train_x.numpy(), train_y.numpy(), 'k*')\n",
    "        # Plot predictive means as blue line\n",
    "        ax.plot(test_x.numpy(), observed_pred.mean.numpy(), 'b')\n",
    "        # Shade between the lower and upper confidence bounds\n",
    "        ax.fill_between(test_x.numpy(), lower.numpy(), upper.numpy(), alpha=0.5)\n",
    "        ax.set_ylim([-3, 3])\n",
    "        ax.legend(['Observed Data', 'Mean', 'Confidence'])"
   ]
  },
  {
   "cell_type": "code",
   "execution_count": 121,
   "metadata": {},
   "outputs": [
    {
     "data": {
      "image/png": "[encoded data removed]",
      "text/plain": [
       "<Figure size 400x300 with 1 Axes>"
      ]
     },
     "metadata": {},
     "output_type": "display_data"
    }
   ],
   "source": [
    "from gp_mjo.kernels.additive_matern import MaternAdditiveKernel\n",
    "from gp_mjo.kernels.additive_matern_period import CustomAdditiveKernel\n",
    "# Use the simplest form of GP model, exact inference\n",
    "class FirstGPModel(gpytorch.models.ExactGP):\n",
    "    def __init__(self, train_x, train_y, likelihood):\n",
    "        super().__init__(train_x, train_y, likelihood)\n",
    "        self.mean_module = gpytorch.means.ConstantMean()\n",
    "        #self.covar_module = gpytorch.kernels.ScaleKernel(MaternAdditiveKernel(lengthscale_unique = True))\n",
    "        #self.covar_module = gpytorch.kernels.ScaleKernel(CustomAdditiveKernel(lengthscale_unique = True))\n",
    "        self.covar_module = gpytorch.kernels.ScaleKernel(CustomBlockKernel(nu=1.5, num_paras = 1, para_upper=1.2))\n",
    "        #self.covar_module = gpytorch.kernels.ScaleKernel(gpytorch.kernels.MaternKernel(nu=0.5))\n",
    "    def forward(self, x):\n",
    "        mean_x = self.mean_module(x)\n",
    "        covar_x = self.covar_module(x)\n",
    "        return gpytorch.distributions.MultivariateNormal(mean_x, covar_x)\n",
    "    \n",
    "\n",
    "from gpytorch.constraints import Positive\n",
    "from gpytorch.constraints import Interval\n",
    "from gpytorch.functions import MaternCovariance\n",
    "class CustomBlockKernel(gpytorch.kernels.Kernel):\n",
    "    is_stationary = True # the custom kernel is stationary\n",
    "    has_lengthscale = True\n",
    "    \n",
    "    # register the parameter when initializing the kernel\n",
    "    def __init__(self, nu=0.5, num_paras = 2, para_upper=2.0,\n",
    "                 #block_kernel=gpytorch.kernels.MaternKernel(nu=0.5),\n",
    "                 paras_prior=None, paras_constraint=None,\n",
    "                 **kwargs):\n",
    "        #self.block_kernel = block_kernel\n",
    "        self.nu = nu\n",
    "        super().__init__(**kwargs)\n",
    "        \n",
    "        # register the raw parameter\n",
    "        self.register_parameter(\n",
    "                name='raw_paras', parameter=torch.nn.Parameter( torch.zeros(*self.batch_shape, num_paras))\n",
    "        )\n",
    "        \n",
    "        if paras_constraint is None:\n",
    "            paras_constraint = Interval( torch.zeros(num_paras), para_upper*torch.ones(num_paras) )\n",
    "\n",
    "        # register the constraint\n",
    "        self.register_constraint('raw_paras', paras_constraint)\n",
    "\n",
    "        # set the parameter prior, see\n",
    "        # https://docs.gpytorch.ai/en/latest/module.html#gpytorch.Module.register_prior\n",
    "        if paras_prior is not None:\n",
    "            self.register_prior(\n",
    "                \"paras_prior\",\n",
    "                paras_prior,\n",
    "                lambda m: m.paras,\n",
    "                lambda m, v : m._set_paras(v),\n",
    "            )\n",
    "    \n",
    "    # now set up the 'actual' paramter\n",
    "    @property\n",
    "    def paras(self):\n",
    "        # when accessing the parameter, apply the constraint transform\n",
    "        return self.raw_paras_constraint.transform(self.raw_paras)\n",
    "\n",
    "    @paras.setter\n",
    "    def paras(self, value):\n",
    "        return self._set_paras(value)\n",
    "\n",
    "    def _set_paras(self, value):\n",
    "        if not torch.is_tensor(value):\n",
    "            value = torch.as_tensor(value).to(self.raw_paras)\n",
    "        # when setting the paramater, transform the actual value to a raw one by applying the inverse transform\n",
    "        self.initialize(raw_paras=self.raw_paras_constraint.inverse_transform(value))\n",
    "    \n",
    "    # this is the kernel function\n",
    "    def forward(self, x1, x2, alpha=None, diag=False, **params):\n",
    "        \n",
    "        if x1.dim() == 1 or x1.shape[0]==1:\n",
    "            x1 = x1.reshape(-1,1)\n",
    "        if x2.dim() == 1 or x2.shape[0]==1:\n",
    "            x2 = x2.reshape(-1,1)\n",
    "        \n",
    "        n1 = x1.shape[0] // 2\n",
    "        n2 = x2.shape[0] // 2\n",
    "\n",
    "        x1_front = x1[:n1, :]\n",
    "        x1_back = x1[n1:, :]\n",
    "\n",
    "        x2_front = x2[:n2, :]\n",
    "        x2_back = x2[n2:, :]\n",
    "\n",
    "        if alpha is None:\n",
    "            alpha = self.paras[0]\n",
    "\n",
    "        #K22 = self.block_kernel.forward(x1=x1_back,x2=x2_back, diag=diag, **params) # n1 * n2 matrix\n",
    "        K22 = MaternCovariance.apply(\n",
    "            x1_back, x2_back, self.lengthscale, self.nu, lambda x1, x2: self.covar_dist(x1, x2, **params)\n",
    "        ) # n1 * n2 matrix\n",
    "        B1 = alpha * torch.eye(n1) # n1 * n1 matrix\n",
    "        B2 = alpha * torch.eye(n2) # n2 * n2 matrix\n",
    "        K12 = B1 @ K22 # n1 * n2 matrix\n",
    "        K21 = K22 @ B2.T # n1 * n2 matrix\n",
    "\n",
    "        K12_cond = MaternCovariance.apply(\n",
    "            x1_front, x2_front, self.lengthscale, self.nu, lambda x1, x2: self.covar_dist(x1, x2, **params)\n",
    "        )# n1 * n2 matrix\n",
    "        K11 = K12_cond + K12 @ B2.T # n1 * n2 matrix\n",
    "\n",
    "        K = torch.cat( (torch.cat((K11,K12),dim=1), torch.cat((K21,K22),dim=1)), dim=0) # 2(n1) * 2(n2) matrix\n",
    "\n",
    "        return K\n",
    "\n",
    "\n",
    "# ## generate training data from sampling\n",
    "# n = 100\n",
    "# train_x = torch.linspace(0, 1, n)\n",
    "\n",
    "# A = CustomBlockKernel(nu=0.5, num_paras = 1, para_upper=10.0).forward(x1=train_x,x2=train_x, alpha=15.4)\n",
    "# L = torch.linalg.cholesky(A)\n",
    "# train_y = L @ torch.normal(0.0, 1.0, size=(n,1))\n",
    "# train_y = train_y.reshape(-1).detach()\n",
    "\n",
    "# likelihood = gpytorch.likelihoods.GaussianLikelihood()\n",
    "# model = FirstGPModel(train_x, train_y, likelihood)\n",
    "\n",
    "# # set to training mode and train\n",
    "# model.train()\n",
    "# likelihood.train()\n",
    "# train(train_x, train_y, model, likelihood)\n",
    "\n",
    "\n",
    "n = 100\n",
    "train_x = torch.linspace(0, 1, n)\n",
    "# True function is sin(2*pi*x) with Gaussian noise\n",
    "train_y = torch.sin(train_x * (2 * math.pi)) + torch.randn(train_x.size()) * math.sqrt(0.04)\n",
    "test_x = torch.linspace(0, 1, 50)\n",
    "\n",
    "\n",
    "########################################################\n",
    "# initialize likelihood and model\n",
    "likelihood = gpytorch.likelihoods.GaussianLikelihood()\n",
    "model = FirstGPModel(train_x, train_y, likelihood)\n",
    "\n",
    "# set to training mode and train\n",
    "model.train()\n",
    "likelihood.train()\n",
    "train(train_x, train_y, model, likelihood)\n",
    "\n",
    "# Get into evaluation (predictive posterior) mode and predict\n",
    "model.eval()\n",
    "likelihood.eval()\n",
    "observed_pred = predict(model, likelihood, test_x = test_x)\n",
    "# plot results\n",
    "plot(train_x, train_y, observed_pred, test_x=test_x)"
   ]
  },
  {
   "cell_type": "code",
   "execution_count": 122,
   "metadata": {},
   "outputs": [
    {
     "name": "stdout",
     "output_type": "stream",
     "text": [
      "tensor([0.0213], grad_fn=<AddBackward0>)\n",
      "tensor([[0.3131]], grad_fn=<SoftplusBackward0>)\n"
     ]
    }
   ],
   "source": [
    "print(model.covar_module.base_kernel.paras)\n",
    "print(model.covar_module.base_kernel.lengthscale)"
   ]
  },
  {
   "cell_type": "code",
   "execution_count": 29,
   "metadata": {},
   "outputs": [
    {
     "name": "stdout",
     "output_type": "stream",
     "text": [
      "likelihood.noise_covar.raw_noise\n",
      "tensor([-4.3741])\n",
      "likelihood.noise_covar.raw_noise_constraint.lower_bound\n",
      "tensor(1.0000e-04)\n",
      "likelihood.noise_covar.raw_noise_constraint.upper_bound\n",
      "tensor(inf)\n",
      "mean_module.raw_constant\n",
      "tensor(0.9956)\n",
      "covar_module.raw_outputscale\n",
      "tensor(2.6233)\n",
      "covar_module.base_kernel.raw_lengthscale\n",
      "tensor([[0.0536]])\n",
      "covar_module.base_kernel.raw_paras\n",
      "tensor([3.7243])\n",
      "covar_module.base_kernel.raw_lengthscale_constraint.lower_bound\n",
      "tensor(0.)\n",
      "covar_module.base_kernel.raw_lengthscale_constraint.upper_bound\n",
      "tensor(inf)\n",
      "covar_module.base_kernel.raw_paras_constraint.lower_bound\n",
      "tensor([0.])\n",
      "covar_module.base_kernel.raw_paras_constraint.upper_bound\n",
      "tensor([2.])\n",
      "covar_module.raw_outputscale_constraint.lower_bound\n",
      "tensor(0.)\n",
      "covar_module.raw_outputscale_constraint.upper_bound\n",
      "tensor(inf)\n"
     ]
    }
   ],
   "source": [
    "for name, param in model.state_dict().items():\n",
    "    print(name)\n",
    "    print(param)"
   ]
  },
  {
   "cell_type": "code",
   "execution_count": 30,
   "metadata": {},
   "outputs": [
    {
     "data": {
      "text/plain": [
       "tensor([1.9529], grad_fn=<AddBackward0>)"
      ]
     },
     "execution_count": 30,
     "metadata": {},
     "output_type": "execute_result"
    }
   ],
   "source": [
    "model.covar_module.base_kernel.paras"
   ]
  },
  {
   "cell_type": "code",
   "execution_count": 83,
   "metadata": {},
   "outputs": [
    {
     "data": {
      "text/plain": [
       "array([[0.45371905]], dtype=float32)"
      ]
     },
     "execution_count": 83,
     "metadata": {},
     "output_type": "execute_result"
    }
   ],
   "source": [
    "model.covar_module.base_kernel.lengthscale.detach().numpy()"
   ]
  },
  {
   "cell_type": "code",
   "execution_count": 56,
   "metadata": {},
   "outputs": [
    {
     "data": {
      "text/plain": [
       "array([0.00643699, 0.49981543, 0.46990523, 0.02384236], dtype=float32)"
      ]
     },
     "execution_count": 56,
     "metadata": {},
     "output_type": "execute_result"
    }
   ],
   "source": [
    "model.covar_module.base_kernel.weights.detach().numpy() / model.covar_module.base_kernel.weights.detach().numpy().sum()"
   ]
  },
  {
   "cell_type": "code",
   "execution_count": 46,
   "metadata": {},
   "outputs": [
    {
     "data": {
      "text/plain": [
       "array([0.6931472, 0.6931472, 0.6931472, 0.6931472], dtype=float32)"
      ]
     },
     "execution_count": 46,
     "metadata": {},
     "output_type": "execute_result"
    }
   ],
   "source": [
    "model.covar_module.base_kernel.lengthscales.detach().numpy()"
   ]
  },
  {
   "cell_type": "code",
   "execution_count": 21,
   "metadata": {},
   "outputs": [
    {
     "data": {
      "text/plain": [
       "tensor([0.6931], grad_fn=<SoftplusBackward0>)"
      ]
     },
     "execution_count": 21,
     "metadata": {},
     "output_type": "execute_result"
    }
   ],
   "source": [
    "model.covar_module.period_length"
   ]
  },
  {
   "cell_type": "code",
   "execution_count": 72,
   "metadata": {},
   "outputs": [],
   "source": [
    "npzfile = np.load('../data/mjo_new_data.npz', allow_pickle=True)\n",
    "\n",
    "data_names = npzfile.files\n",
    "n_files = len(npzfile.files)\n",
    "\n",
    "new_datas = [0]*n_files\n",
    "for i in range(n_files):\n",
    "    new_datas[i] = npzfile[data_names[i]]"
   ]
  },
  {
   "cell_type": "code",
   "execution_count": null,
   "metadata": {},
   "outputs": [],
   "source": [
    "## Set initial values\n",
    "widths = [40, 60, 80]\n",
    "n_iter = 200\n",
    "sigma_eps = 0.01\n",
    "fixed_noise = True\n",
    "\n",
    "n = 10000 # the number of days for training\n",
    "m = 160 # the number of days for testing\n",
    "c = 365 # the number of dropped buffer set\n",
    "\n",
    "n_cv = 1 # the number of operations for cross-validation\n",
    "n1s  = [random.randint(0,n) for i in range(n_cv)]\n",
    "\n",
    "\n",
    "palette_colors = list(mcolors.TABLEAU_COLORS.keys()) # list of Tableau Palette colors\n",
    "plot_colors = palette_colors[:len(widths)]\n",
    "\n",
    "## Set the kernel of GP\n",
    "nu = 0.5 # 1.5,2.5.... smoothness parameter of Matern kernel\n",
    "d = 1 # d = width or d = 1\n",
    "kernel = gpytorch.kernels.MaternKernel(nu=0.5) + gpytorch.kernels.MaternKernel(nu=1.5) \\\n",
    "    + gpytorch.kernels.MaternKernel(nu=2.5)#gpytorch.kernels.PeriodicKernel() "
   ]
  },
  {
   "cell_type": "code",
   "execution_count": null,
   "metadata": {},
   "outputs": [],
   "source": [
    "x1 = torch.randn(50, 2)\n",
    "k=kernel(x1)"
   ]
  },
  {
   "cell_type": "code",
   "execution_count": null,
   "metadata": {},
   "outputs": [],
   "source": [
    "print(gpytorch.kernels.MaternKernel(nu=nu)(x1).__getitem__(0))\n",
    "print(gpytorch.kernels.PeriodicKernel()(x1).__getitem__(0))\n",
    "print(k.__getitem__(0))"
   ]
  },
  {
   "cell_type": "code",
   "execution_count": null,
   "metadata": {},
   "outputs": [],
   "source": [
    "## Independent RMMs\n",
    "dics_total = {}\n",
    "for n1 in n1s:\n",
    "    dics, dics_ids = dics_divide(new_datas, data_names, n1, m, n, c)\n",
    "    dics_total[n1] = dics\n",
    "    for width, color in zip(widths, plot_colors):\n",
    "        mjo_model = gp_mjo(dics, dics_ids, kernel, width, n_iter, sigma_eps,fixed_noise)\n",
    "        for i in range(4):  # data_names = ['year', 'month', 'day', 'RMM1', 'RMM2', 'phase', 'amplitude']\n",
    "            data_name = data_names[3:][i]\n",
    "            # initialize plot\n",
    "            fig, ax = plt.subplots(1, 1, figsize=(14, 8))            \n",
    "            \n",
    "            if i <= 1:\n",
    "                mjo_model.train_mjo(data_name)\n",
    "                mjo_model.pred_mjo(data_name)\n",
    "            if i == 2:\n",
    "                mjo_model.rmm_to_phase()\n",
    "            if i == 3:\n",
    "                mjo_model.rmm_to_amplitude()\n",
    "            mjo_model.plot_mjo(data_name, ax, color)\n",
    "\n",
    "            ax.set_title(f'GP Inference for MJO {data_name}, width = {width}, $n_1$ = {n1} with Independent RMMs',fontsize=14)\n",
    "            plt.show()"
   ]
  },
  {
   "cell_type": "code",
   "execution_count": null,
   "metadata": {},
   "outputs": [],
   "source": []
  }
 ],
 "metadata": {
  "kernelspec": {
   "display_name": "ml",
   "language": "python",
   "name": "python3"
  },
  "language_info": {
   "codemirror_mode": {
    "name": "ipython",
    "version": 3
   },
   "file_extension": ".py",
   "mimetype": "text/x-python",
   "name": "python",
   "nbconvert_exporter": "python",
   "pygments_lexer": "ipython3",
   "version": "3.10.9"
  },
  "orig_nbformat": 4
 },
 "nbformat": 4,
 "nbformat_minor": 2
}
