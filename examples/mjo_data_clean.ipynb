{
 "cells": [
  {
   "cell_type": "code",
   "execution_count": 1,
   "metadata": {},
   "outputs": [],
   "source": [
    "import numpy as np\n",
    "import pandas as pd"
   ]
  },
  {
   "attachments": {},
   "cell_type": "markdown",
   "metadata": {},
   "source": [
    "### Import Dataset"
   ]
  },
  {
   "cell_type": "code",
   "execution_count": 2,
   "metadata": {},
   "outputs": [
    {
     "name": "stdout",
     "output_type": "stream",
     "text": [
      "       year  month  day      RMM1      RMM2  phase  amplitude  \\\n",
      "0      1974      6    1  1.634470  1.203040      5   2.029480   \n",
      "1      1974      6    2  1.602890  1.015120      5   1.897290   \n",
      "2      1974      6    3  1.516250  1.085510      5   1.864760   \n",
      "3      1974      6    4  1.509810  1.035730      5   1.830920   \n",
      "4      1974      6    5  1.559060  1.305180      5   2.033260   \n",
      "...     ...    ...  ...       ...       ...    ...        ...   \n",
      "17696  2022     11   12 -0.149320 -0.536245      2   0.556646   \n",
      "17697  2022     11   13  0.292958 -0.418385      3   0.510755   \n",
      "17698  2022     11   14  0.638955 -0.395651      4   0.751534   \n",
      "17699  2022     11   15  0.719955 -0.220695      4   0.753022   \n",
      "17700  2022     11   16  0.670323 -0.183991      4   0.695116   \n",
      "\n",
      "                           Final_value  \n",
      "0       Final_value:__OLR_&_NCEP_winds  \n",
      "1       Final_value:__OLR_&_NCEP_winds  \n",
      "2       Final_value:__OLR_&_NCEP_winds  \n",
      "3       Final_value:__OLR_&_NCEP_winds  \n",
      "4       Final_value:__OLR_&_NCEP_winds  \n",
      "...                                ...  \n",
      "17696  Prelim_value:_OLR_&_ACCESS_wind  \n",
      "17697  Prelim_value:_OLR_&_ACCESS_wind  \n",
      "17698  Prelim_value:_OLR_&_ACCESS_wind  \n",
      "17699  Prelim_value:_OLR_&_ACCESS_wind  \n",
      "17700  Prelim_value:_OLR_&_ACCESS_wind  \n",
      "\n",
      "[17701 rows x 8 columns]\n"
     ]
    },
    {
     "name": "stderr",
     "output_type": "stream",
     "text": [
      "/var/folders/51/_9h2_qzn4b54cgs0qgwxr0vh0000gn/T/ipykernel_84227/4073314169.py:3: ParserWarning: Falling back to the 'python' engine because the 'c' engine does not support regex separators (separators > 1 char and different from '\\s+' are interpreted as regex); you can avoid this warning by specifying engine='python'.\n",
      "  df = pd.read_csv('../data/mjo_data.csv', sep=r'[ \\t]+', names=colnames, skiprows=[0])\n"
     ]
    }
   ],
   "source": [
    "## Construct a dataframe from the csv dataset\n",
    "colnames=['year', 'month', 'day', 'RMM1', 'RMM2','phase','amplitude','Final_value']\n",
    "df = pd.read_csv('../data/mjo_data.csv', sep=r'[ \\t]+', names=colnames, skiprows=[0])\n",
    "total_days = len(df)\n",
    "\n",
    "## Convert the columns of the dataframe to the numpy array\n",
    "year = df['year'].to_numpy()\n",
    "month = df['month'].to_numpy()\n",
    "day = df['day'].to_numpy()\n",
    "\n",
    "RMM1 = df['RMM1'].to_numpy(dtype='float64')\n",
    "RMM2 = df['RMM2'].to_numpy(dtype='float64')\n",
    "phase = df['phase'].to_numpy(dtype='float64')\n",
    "amplitude = df['amplitude'].to_numpy(dtype='float64')\n",
    "\n",
    "print(df)"
   ]
  },
  {
   "attachments": {},
   "cell_type": "markdown",
   "metadata": {},
   "source": [
    "### Delete missing values and their preceding values"
   ]
  },
  {
   "cell_type": "code",
   "execution_count": 3,
   "metadata": {},
   "outputs": [
    {
     "name": "stdout",
     "output_type": "stream",
     "text": [
      "[array([ 0.142507  , -0.2042    , -0.15861   , ...,  0.63895518,\n",
      "        0.71995491,  0.67032343]), array([ 1.05047   ,  1.37361   ,  1.53943   , ..., -0.39565107,\n",
      "       -0.2206952 , -0.1839911 ]), array([6., 7., 7., ..., 4., 4., 4.]), array([1.0600899 , 1.3887    , 1.54758   , ..., 0.7515341 , 0.75302154,\n",
      "       0.69511598])]\n",
      "(17701,)\n",
      "1675\n",
      "(16026,)\n",
      "[array([1979, 1979, 1979, ..., 2022, 2022, 2022]), array([ 1,  1,  1, ..., 11, 11, 11]), array([ 1,  2,  3, ..., 14, 15, 16])]\n",
      "(17701,)\n",
      "(16026,)\n"
     ]
    }
   ],
   "source": [
    "raw_datas = [RMM1,RMM2,phase,amplitude]\n",
    "data_names = ['RMM1', 'RMM2', 'phase', 'amplitude']\n",
    "idx_miss = np.where(RMM1 > 1e34)[0] # index of missing value\n",
    "n_miss = len(idx_miss) # the number of missing value\n",
    "\n",
    "## Delete the missing values and their predceding values\n",
    "new_datas = [0]*4\n",
    "for i in range(4):\n",
    "    raw_data = raw_datas[i]\n",
    "    data_name = data_names[i]\n",
    "    dat = np.delete(raw_data, np.arange(max(idx_miss)+1)) # np.delete(raw_datas[i], idx_miss)\n",
    "    new_datas[i] = dat\n",
    "    if i == 0:\n",
    "        RMM1_new = dat\n",
    "    if i == 1:\n",
    "        RMM2_new = dat\n",
    "    if i == 2:\n",
    "        phase_new = dat\n",
    "    if i == 3:\n",
    "        amplitude_new = dat\n",
    "\n",
    "raw_ymds = [year, month, day]\n",
    "ymd_names = ['year', 'month', 'day']\n",
    "new_ymds = [0]*3\n",
    "for i in range(3):\n",
    "    raw_ymd = raw_ymds[i]\n",
    "    tmd_name = ymd_names[i]\n",
    "    dat_ymd = np.delete(raw_ymd, np.arange(max(idx_miss)+1)) # np.delete(raw_ymds[i], idx_miss)\n",
    "    new_ymds[i] = dat_ymd\n",
    "    if i == 0:\n",
    "        year_new = dat_ymd\n",
    "    if i == 1:\n",
    "        month_new = dat_ymd\n",
    "    if i == 2:\n",
    "        day_new = dat_ymd\n",
    "    \n",
    "\n",
    "print(new_datas)\n",
    "print(RMM1.shape)\n",
    "print(max(idx_miss)+1)\n",
    "print(RMM1_new.shape)\n",
    "\n",
    "print(new_ymds)\n",
    "print(year.shape)\n",
    "print(year_new.shape)"
   ]
  },
  {
   "attachments": {},
   "cell_type": "markdown",
   "metadata": {},
   "source": [
    "### Save and load the updated dataset"
   ]
  },
  {
   "cell_type": "code",
   "execution_count": 5,
   "metadata": {},
   "outputs": [
    {
     "name": "stdout",
     "output_type": "stream",
     "text": [
      "['year', 'month', 'day', 'RMM1', 'RMM2', 'phase', 'amplitude']\n",
      "[ 0.142507   -0.2042     -0.15861    ...  0.63895518  0.71995491\n",
      "  0.67032343]\n",
      "[ 1.05047     1.37361     1.53943    ... -0.39565107 -0.2206952\n",
      " -0.1839911 ]\n",
      "[1979 1979 1979 ... 2022 2022 2022]\n",
      "[ 1  1  1 ... 11 11 11]\n",
      "[ 1  2  3 ... 14 15 16]\n"
     ]
    }
   ],
   "source": [
    "kwds = {'year':year_new, 'month':month_new, 'day':day_new, 'RMM1':RMM1_new, 'RMM2':RMM2_new,'phase':phase_new,'amplitude':amplitude_new}\n",
    "np.savez('../data/mjo_new_data.npz', **kwds)\n",
    "\n",
    "npzfile = np.load('../data/mjo_new_data.npz', allow_pickle=True)\n",
    "print(npzfile.files)\n",
    "print(npzfile['RMM1'])\n",
    "print(npzfile['RMM2'])\n",
    "print(npzfile['year'])\n",
    "print(npzfile['month'])\n",
    "print(npzfile['day'])"
   ]
  },
  {
   "cell_type": "code",
   "execution_count": null,
   "metadata": {},
   "outputs": [],
   "source": []
  }
 ],
 "metadata": {
  "kernelspec": {
   "display_name": "ml",
   "language": "python",
   "name": "python3"
  },
  "language_info": {
   "codemirror_mode": {
    "name": "ipython",
    "version": 3
   },
   "file_extension": ".py",
   "mimetype": "text/x-python",
   "name": "python",
   "nbconvert_exporter": "python",
   "pygments_lexer": "ipython3",
   "version": "3.10.9"
  },
  "orig_nbformat": 4
 },
 "nbformat": 4,
 "nbformat_minor": 2
}
