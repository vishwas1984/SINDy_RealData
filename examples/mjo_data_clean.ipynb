{
 "cells": [
  {
   "cell_type": "code",
   "execution_count": 1,
   "metadata": {},
   "outputs": [],
   "source": [
    "import numpy as np\n",
    "import pandas as pd"
   ]
  },
  {
   "attachments": {},
   "cell_type": "markdown",
   "metadata": {},
   "source": [
    "### Import Dataset"
   ]
  },
  {
   "cell_type": "code",
   "execution_count": 2,
   "metadata": {},
   "outputs": [
    {
     "name": "stdout",
     "output_type": "stream",
     "text": [
      "       year  month  day      RMM1      RMM2  phase  amplitude  \\\n",
      "0      1974      6    1  1.634470  1.203040      5   2.029480   \n",
      "1      1974      6    2  1.602890  1.015120      5   1.897290   \n",
      "2      1974      6    3  1.516250  1.085510      5   1.864760   \n",
      "3      1974      6    4  1.509810  1.035730      5   1.830920   \n",
      "4      1974      6    5  1.559060  1.305180      5   2.033260   \n",
      "...     ...    ...  ...       ...       ...    ...        ...   \n",
      "18294  2024      7    2  0.386045 -1.403167      3   1.455303   \n",
      "18295  2024      7    3  0.367469 -1.546910      3   1.589958   \n",
      "18296  2024      7    4  0.209546 -1.451836      3   1.466880   \n",
      "18297  2024      7    5  0.202304 -1.161427      3   1.178915   \n",
      "18298  2024      7    6  0.412928 -1.050201      3   1.128464   \n",
      "\n",
      "                                  Final_value  \n",
      "0                WH04_method:_OLR_&_NCEP_wind  \n",
      "1                WH04_method:_OLR_&_NCEP_wind  \n",
      "2                WH04_method:_OLR_&_NCEP_wind  \n",
      "3                WH04_method:_OLR_&_NCEP_wind  \n",
      "4                WH04_method:_OLR_&_NCEP_wind  \n",
      "...                                       ...  \n",
      "18294  Gottschalk10_method:_OLR_&_ACCESS_wind  \n",
      "18295  Gottschalk10_method:_OLR_&_ACCESS_wind  \n",
      "18296  Gottschalk10_method:_OLR_&_ACCESS_wind  \n",
      "18297  Gottschalk10_method:_OLR_&_ACCESS_wind  \n",
      "18298  Gottschalk10_method:_OLR_&_ACCESS_wind  \n",
      "\n",
      "[18299 rows x 8 columns]\n"
     ]
    },
    {
     "name": "stderr",
     "output_type": "stream",
     "text": [
      "/var/folders/51/_9h2_qzn4b54cgs0qgwxr0vh0000gn/T/ipykernel_65876/2826871129.py:3: ParserWarning: Falling back to the 'python' engine because the 'c' engine does not support regex separators (separators > 1 char and different from '\\s+' are interpreted as regex); you can avoid this warning by specifying engine='python'.\n",
      "  df = pd.read_csv('../data/obs/rmm.74toRealtime.txt', sep=r'[ \\t]+', names=colnames, skiprows=[0])\n"
     ]
    }
   ],
   "source": [
    "## Construct a dataframe from the csv dataset\n",
    "colnames=['year', 'month', 'day', 'RMM1', 'RMM2','phase','amplitude','Final_value']\n",
    "df = pd.read_csv('../data/obs/rmm.74toRealtime.txt', sep=r'[ \\t]+', names=colnames, skiprows=[0])\n",
    "total_days = len(df)\n",
    "\n",
    "## Convert the columns of the dataframe to the numpy array\n",
    "year = df['year'].to_numpy()\n",
    "month = df['month'].to_numpy()\n",
    "day = df['day'].to_numpy()\n",
    "\n",
    "RMM1 = df['RMM1'].to_numpy(dtype='float64')\n",
    "RMM2 = df['RMM2'].to_numpy(dtype='float64')\n",
    "phase = df['phase'].to_numpy(dtype='float64')\n",
    "amplitude = df['amplitude'].to_numpy(dtype='float64')\n",
    "\n",
    "print(df)"
   ]
  },
  {
   "attachments": {},
   "cell_type": "markdown",
   "metadata": {},
   "source": [
    "### Delete missing values and their preceding values"
   ]
  },
  {
   "cell_type": "code",
   "execution_count": 3,
   "metadata": {},
   "outputs": [
    {
     "name": "stdout",
     "output_type": "stream",
     "text": [
      "[array([ 0.142507  , -0.2042    , -0.15861   , ...,  0.20954639,\n",
      "        0.20230356,  0.4129284 ]), array([ 1.05047  ,  1.37361  ,  1.53943  , ..., -1.4518361, -1.1614273,\n",
      "       -1.0502005]), array([6., 7., 7., ..., 3., 3., 3.]), array([1.0600899, 1.3887   , 1.54758  , ..., 1.4668803, 1.1789148,\n",
      "       1.1284639])]\n",
      "(18299,)\n",
      "1675\n",
      "(16624,)\n",
      "[array([1979, 1979, 1979, ..., 2024, 2024, 2024]), array([1, 1, 1, ..., 7, 7, 7]), array([1, 2, 3, ..., 4, 5, 6])]\n",
      "(18299,)\n",
      "(16624,)\n"
     ]
    }
   ],
   "source": [
    "raw_datas = [RMM1,RMM2,phase,amplitude]\n",
    "data_names = ['RMM1', 'RMM2', 'phase', 'amplitude']\n",
    "idx_miss = np.where(RMM1 > 1e34)[0] # index of missing value\n",
    "n_miss = len(idx_miss) # the number of missing value\n",
    "\n",
    "## Delete the missing values and their predceding values\n",
    "new_datas = [0]*4\n",
    "for i in range(4):\n",
    "    raw_data = raw_datas[i]\n",
    "    data_name = data_names[i]\n",
    "    dat = np.delete(raw_data, np.arange(max(idx_miss)+1)) # np.delete(raw_datas[i], idx_miss)\n",
    "    new_datas[i] = dat\n",
    "    if i == 0:\n",
    "        RMM1_new = dat\n",
    "    if i == 1:\n",
    "        RMM2_new = dat\n",
    "    if i == 2:\n",
    "        phase_new = dat\n",
    "    if i == 3:\n",
    "        amplitude_new = dat\n",
    "\n",
    "raw_ymds = [year, month, day]\n",
    "ymd_names = ['year', 'month', 'day']\n",
    "new_ymds = [0]*3\n",
    "for i in range(3):\n",
    "    raw_ymd = raw_ymds[i]\n",
    "    tmd_name = ymd_names[i]\n",
    "    dat_ymd = np.delete(raw_ymd, np.arange(max(idx_miss)+1)) # np.delete(raw_ymds[i], idx_miss)\n",
    "    new_ymds[i] = dat_ymd\n",
    "    if i == 0:\n",
    "        year_new = dat_ymd\n",
    "    if i == 1:\n",
    "        month_new = dat_ymd\n",
    "    if i == 2:\n",
    "        day_new = dat_ymd\n",
    "    \n",
    "\n",
    "print(new_datas)\n",
    "print(RMM1.shape)\n",
    "print(max(idx_miss)+1)\n",
    "print(RMM1_new.shape)\n",
    "\n",
    "print(new_ymds)\n",
    "print(year.shape)\n",
    "print(year_new.shape)"
   ]
  },
  {
   "attachments": {},
   "cell_type": "markdown",
   "metadata": {},
   "source": [
    "### Save and load the updated dataset"
   ]
  },
  {
   "cell_type": "code",
   "execution_count": 4,
   "metadata": {},
   "outputs": [
    {
     "name": "stdout",
     "output_type": "stream",
     "text": [
      "['year', 'month', 'day', 'RMM1', 'RMM2', 'phase', 'amplitude']\n",
      "[ 0.142507   -0.2042     -0.15861    ...  0.20954639  0.20230356\n",
      "  0.4129284 ]\n",
      "[ 1.05047    1.37361    1.53943   ... -1.4518361 -1.1614273 -1.0502005]\n",
      "[1979 1979 1979 ... 2024 2024 2024]\n",
      "[1 1 1 ... 7 7 7]\n",
      "[1 2 3 ... 4 5 6]\n"
     ]
    }
   ],
   "source": [
    "kwds = {'year':year_new, 'month':month_new, 'day':day_new, 'RMM1':RMM1_new, 'RMM2':RMM2_new,'phase':phase_new,'amplitude':amplitude_new}\n",
    "np.savez('../data/obs/mjo_new_data.npz', **kwds)\n",
    "\n",
    "npzfile = np.load('../data/obs/mjo_new_data.npz', allow_pickle=True)\n",
    "print(npzfile.files)\n",
    "print(npzfile['RMM1'])\n",
    "print(npzfile['RMM2'])\n",
    "print(npzfile['year'])\n",
    "print(npzfile['month'])\n",
    "print(npzfile['day'])"
   ]
  },
  {
   "cell_type": "code",
   "execution_count": null,
   "metadata": {},
   "outputs": [],
   "source": []
  }
 ],
 "metadata": {
  "kernelspec": {
   "display_name": "ml",
   "language": "python",
   "name": "python3"
  },
  "language_info": {
   "codemirror_mode": {
    "name": "ipython",
    "version": 3
   },
   "file_extension": ".py",
   "mimetype": "text/x-python",
   "name": "python",
   "nbconvert_exporter": "python",
   "pygments_lexer": "ipython3",
   "version": "3.9.18"
  },
  "orig_nbformat": 4
 },
 "nbformat": 4,
 "nbformat_minor": 2
}
